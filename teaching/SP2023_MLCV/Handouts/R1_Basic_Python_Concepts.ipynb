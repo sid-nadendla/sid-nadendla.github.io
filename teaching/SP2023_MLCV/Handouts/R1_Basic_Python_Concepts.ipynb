{
  "cells": [
    {
      "cell_type": "markdown",
      "metadata": {
        "id": "8a1180a3"
      },
      "source": [
        "### Basic Python\n",
        "This tutorial is designed to introduce you to the fundamentals of python programming by providing you with the basic understanding of the Python datatypes, language syntax, and methods. \n",
        "\n",
        "We cover the following concepts in this tutorial\n",
        "1. Python Data Types and associated Methods\n",
        "2. Python Built-in Functions\n",
        "3. Logical statements (if...else)\n",
        "4. Looping\n",
        "5. User-Defined Functions\n",
        "6. Errors & Exception Handling"
      ]
    },
    {
      "cell_type": "markdown",
      "metadata": {
        "id": "70626876"
      },
      "source": [
        "#### Python Data Types and Manipulations\n",
        "##### Numeric"
      ]
    },
    {
      "cell_type": "code",
      "execution_count": null,
      "metadata": {
        "id": "29f9a7c7"
      },
      "outputs": [],
      "source": [
        "# We have three numeric data types: Integers, Floating points, and Complex numbers\n",
        "\n",
        "# We will focus on Integers and Floating points\n",
        "\n",
        "# Assign integer numbers to variables\n",
        "int_1 = 30\n",
        "int_2 = -10\n",
        "int_3 = 8\n",
        "# \n",
        "# Assign floating point numbers to variables\n",
        "floating_1 = 1.414\n",
        "floating_2 = 1.732\n",
        "\n",
        "# We can perform arithmetic operations with the numeric values\n",
        "add_ = int_1 + floating_2\n",
        "sub_ = int_2 - floating_1\n",
        "div_2 = int_1 / floating_2\n",
        "mult_ = int_1 * floating_1\n",
        "\n",
        "# Return the quotient after a numeric division\n",
        "div_1 = int_1 // int_2\n",
        "\n",
        "# We can also get just the remainder after a numeric division\n",
        "rem_ = int_1 % int_2\n",
        "\n",
        "# The print built-in function comes in handy when you want to print a mix of variables and text/string\n",
        "print(\"The addition of\", int_1, \"and\", floating_2, \"is\", add_)\n",
        "\n",
        "# We can also use the 'f-format' print function to make printing easier and cohesive\n",
        "print(f\"The subtraction of {floating_1} from {int_2} is {sub_}\\n\")\n",
        "\n",
        "print(f\"The division of {int_1} by {floating_2} is {div_2}\")\n",
        "\n",
        "print(f\"The multiplication of {int_1} and {floating_1} is {mult_}\\n\")\n",
        "\n",
        "print(f\"The quotient when we divide {int_1} by {int_2} is {div_1}\")\n",
        "\n",
        "print(f\"The remainder when we divide {int_1} by {int_2} is {rem_}\")"
      ]
    },
    {
      "cell_type": "markdown",
      "metadata": {
        "id": "1cce58bc"
      },
      "source": [
        "##### Strings"
      ]
    },
    {
      "cell_type": "code",
      "execution_count": null,
      "metadata": {
        "id": "85cd9a2b"
      },
      "outputs": [],
      "source": [
        "# We can create a string in python by using a single or double quotes around any piece of text\n",
        "str_1 = \"MLCV is a great course\"\n",
        "\n",
        "# Putting numeric values in a quotes makes it a string\n",
        "str_2 = '1.414'\n",
        "\n",
        "# We need to escape the quote characters using backslash ('\\') if we want to use them literally\n",
        "str_3 = \"[20, \\\"I am not kidding\\\"]\"\n",
        "\n",
        "print(str_1,'\\n',str_2,'\\n',str_3, sep=\"\")"
      ]
    },
    {
      "cell_type": "code",
      "execution_count": null,
      "metadata": {
        "id": "e157f2e2"
      },
      "outputs": [],
      "source": [
        "# We can access the characters of a string by indexing; Remember Python uses 'Zero-based' Indexing\n",
        "# Spaces are also counted as characters in a string\n",
        "\n",
        "first_char = str_1[0]\n",
        "third_char = str_1[2]\n",
        "last_char = str_1[-1]\n",
        "\n",
        "# We can also get a sub-string from the whole string also by using the indexing approach\n",
        "first_five = str_1[0:5]\n",
        "last_three = str_1[-3:]\n",
        "\n",
        "print(f\"The first character in \\\"{str_1}\\\" is \\\"{first_char}\\\"\")\n",
        "print(f\"The thrid character in \\\"{str_1}\\\" is \\\"{third_char}\\\"\")\n",
        "print(f\"The last character in \\\"{str_1}\\\" is \\\"{last_char}\\\"\")\n",
        "print(f\"The first five characters in \\\"{str_1}\\\" is \\\"{first_five}\\\"\")\n",
        "print(f\"The last three characters in \\\"{str_1}\\\" is \\\"{last_three}\\\"\")"
      ]
    },
    {
      "cell_type": "code",
      "execution_count": null,
      "metadata": {
        "id": "cca55e98"
      },
      "outputs": [],
      "source": [
        "# We use the len() built-in function to find the length of a string\n",
        "str_3_length = len(str_3)\n",
        "\n",
        "# Split a string based on a delimeter using the split() function\n",
        "split_str_1 = str_1.split()\n",
        "split_s_str_1 = str_1.split('s')\n",
        "\n",
        "print(f\"The length of \\\"{str_3}\\\" is {str_3_length}\")\n",
        "\n",
        "print(f\"Spliting \\\"{str_1}\\\" based on space we get {split_str_1}\")\n",
        "print(f\"Spliting \\\"{str_1}\\\" based on \\\"s\\\" we get {split_s_str_1}\")"
      ]
    },
    {
      "cell_type": "code",
      "execution_count": null,
      "metadata": {
        "id": "4bfb9f03"
      },
      "outputs": [],
      "source": [
        "# We can use the lower and upper to convert from upper case to lower case and vice versa\n",
        "str_4 = \"MLCV IS A GREAT COURSE\"\n",
        "str_5 = \"fun and amazing\"\n",
        "\n",
        "str_4_lower = str_4.lower()\n",
        "str_5_upper = str_5.upper()\n",
        "\n",
        "print(f\"\\\"{str_4}\\\" in lower case is \\\"{str_4_lower}\\\"\")\n",
        "print(f\"\\\"{str_5}\\\" in upper case is \\\"{str_5_upper}\\\"\")\n"
      ]
    },
    {
      "cell_type": "code",
      "execution_count": null,
      "metadata": {
        "id": "9696c3b6"
      },
      "outputs": [],
      "source": [
        "# We can also add two strings together\n",
        "str_6 = str_4 + \" it is \" + str_5\n",
        "\n",
        "# Multiply a string by a number\n",
        "str_7 = str_4 * 3\n",
        "\n",
        "print(f\"Adding strings together we get {str_6}\")\n",
        "print(f\"Multiplying {str_4} by 3 we get {str_7}\")"
      ]
    },
    {
      "cell_type": "markdown",
      "metadata": {
        "id": "02f3821b"
      },
      "source": [
        "##### List"
      ]
    },
    {
      "cell_type": "code",
      "execution_count": null,
      "metadata": {
        "id": "05daf111"
      },
      "outputs": [],
      "source": [
        "# We create a list using the square brackets; \n",
        "list_1 = [10, 20, 30, 40, 50.6, 60.7]\n",
        "\n",
        "list_2 = ['neural', 'MLCV', 'image', 'create']\n",
        "\n",
        "list_3 = [34, 22, 'imagenet', 'cifar', '45.3', 90.07]\n",
        "\n",
        "list_4 = [['IBM', 'Microsoft', 43], 'Dell', [23, 65], 'peace', 76.98]"
      ]
    },
    {
      "cell_type": "code",
      "execution_count": null,
      "metadata": {
        "id": "ea6dea6e"
      },
      "outputs": [],
      "source": [
        "# Adding list together creates a list containing both lists\n",
        "list_5 = list_3 + list_4\n",
        "\n",
        "# Alternatively we can also extend a list using the extend() function\n",
        "list_2.extend(list_1)\n",
        "\n",
        "print(f\"list_5 = {list_5}\")\n",
        "print(f\"list_2 = {list_2}\")"
      ]
    },
    {
      "cell_type": "code",
      "execution_count": null,
      "metadata": {
        "id": "a3d65cf5"
      },
      "outputs": [],
      "source": [
        "# We can select an item in a list using indexing just like we did with strings; remember 'zero-based' indexing\n",
        "first_item = list_5[0]\n",
        "seventh_item = list_5[6]\n",
        "last_item = list_5[-1]\n",
        "\n",
        "# Selecting a range of items\n",
        "four_items = list_5[4:8]\n",
        "last_three_items = list_5[-3:]\n",
        "\n",
        "print(f\"list_5: {list_5}\")\n",
        "print(f\"first item: {first_item}\")\n",
        "print(f\"seventh item: {seventh_item}\")\n",
        "print(f\"last three items: {last_three_items}\")"
      ]
    },
    {
      "cell_type": "code",
      "execution_count": null,
      "metadata": {
        "id": "0e3ba91b"
      },
      "outputs": [],
      "source": [
        "list_2 = ['neural', 'MLCV', 'image', 'create']\n",
        "\n",
        "# We can add to the end of a list using append() function\n",
        "print(f\"list_2: {list_2}\")\n",
        "\n",
        "list_2.append('Google')\n",
        "\n",
        "print(f\"After appending \\\"Google\\\": {list_2}\")\n",
        "print()\n",
        "\n",
        "\n",
        "# Use remove() method to remove the first instance of specified item\n",
        "list_2.remove('neural')\n",
        "print()\n",
        "print(f\"After removing \\\"neural\\\": {list_2}\")\n",
        "\n",
        "# Use insert() method to add an item to a specified position\n",
        "list_2.insert(1, 'Amazon')\n",
        "print(f\"After inserting \\\"Amazon\\\" at index 1: {list_2}\")\n",
        "\n",
        "list_6 = ['Google', 'Microsoft', 'IBM', 'Apple', 'Microsoft', 'Microsoft', 'IBM', 'Apple']\n",
        "# Use count() method to count the number of element in a list\n",
        "print(f\"\\nlist_6: {list_6}\")\n",
        "print(f\"The number of \\\"Microsoft\\\" in the list is: {list_6.count('Microsoft')}\")"
      ]
    },
    {
      "cell_type": "code",
      "execution_count": null,
      "metadata": {
        "id": "27682397"
      },
      "outputs": [],
      "source": [
        "list_7 = ['Blue', 'Green', 'Red']\n",
        "\n",
        "# Use the reverse() method to reverse a list order\n",
        "list_7.reverse()\n",
        "\n",
        "print(f\"Reversed list: {list_7}\")\n",
        "print()\n",
        "\n",
        "# Check if an element is in a list using the \"in\" keyword\n",
        "answer_1 = 'Blue' in list_7\n",
        "answer_2 = 'Yellow' in list_7\n",
        "\n",
        "print(f\"Blue in {list_7}: {answer_1}\")\n",
        "print(f\"Yellow in {list_7}: {answer_2}\")"
      ]
    },
    {
      "cell_type": "markdown",
      "metadata": {
        "id": "97b16abc"
      },
      "source": [
        "##### Tuples"
      ]
    },
    {
      "cell_type": "code",
      "execution_count": null,
      "metadata": {
        "id": "3c4726d9"
      },
      "outputs": [],
      "source": [
        "# Create tuples using parenthesis; same as list but immutable\n",
        "tup_1 = ('neural', 'MLCV')\n",
        "tup_2 = (1.414, 'Yes')\n",
        "\n",
        "# Create a list of tuples by 'zipping' two or more list of equal lengths\n",
        "list_8 = ['Joey', 'Chandler', 'Monica', 'Ross']\n",
        "list_9 = ['Mexico', 'USA', 'Spain', 'England']\n",
        "list_10 = [22, 23, 26, 20]\n",
        "\n",
        "tup_list = list(zip(list_8, list_9, list_10))\n",
        "print(tup_1)\n",
        "print(tup_2)\n",
        "print()\n",
        "\n",
        "\n",
        "print(tup_list)"
      ]
    },
    {
      "cell_type": "code",
      "execution_count": null,
      "metadata": {
        "id": "ec081c60"
      },
      "outputs": [],
      "source": [
        "# Get the index of an element in a tuple\n",
        "print(f\"The index of 'neural' in {tup_1}: {tup_1.index('great')}\")\n",
        "print(f\"The index of 'Yes' in {tup_2}: {tup_2.index('Yes')}\")"
      ]
    },
    {
      "cell_type": "markdown",
      "metadata": {
        "id": "c7d5dad6"
      },
      "source": [
        "##### Set"
      ]
    },
    {
      "cell_type": "code",
      "execution_count": null,
      "metadata": {
        "id": "3cb085c4"
      },
      "outputs": [],
      "source": [
        "# A set contains unique elements;\n",
        "\n",
        "# Create a set by declaring it using curly brackets.\n",
        "\n",
        "# Ignores duplicate elements; uses just a single instance of each element\n",
        "set_2 = {'Blue', 'Yellow', 'Orange', 'Yellow', 'Red', 'White', 'Blue'}\n",
        "\n",
        "print(set_2)"
      ]
    },
    {
      "cell_type": "code",
      "execution_count": null,
      "metadata": {
        "id": "d53aa841"
      },
      "outputs": [],
      "source": [
        "# Create a set from a list by casting using the set method set()\n",
        "list_6 = ['Google', 'Microsoft', 'IBM', 'Apple', 'Microsoft', 'Microsoft', 'IBM', 'Apple']\n",
        "\n",
        "set_1 = set(list_6)\n",
        "\n",
        "print(set_1)"
      ]
    },
    {
      "cell_type": "code",
      "execution_count": null,
      "metadata": {
        "id": "87449d00"
      },
      "outputs": [],
      "source": [
        "# Add an element to a set using add() method\n",
        "\n",
        "set_2.add('Black')\n",
        "print(f\"Added \\\"Black\\\": {set_2}\")"
      ]
    },
    {
      "cell_type": "code",
      "execution_count": null,
      "metadata": {
        "id": "650ebdb7"
      },
      "outputs": [],
      "source": [
        "# We cannot directly index a set to obtain an item\n",
        "\n",
        "# More details in the 'looping' section on how to access set elements by index\n",
        "print(set_2[1])"
      ]
    },
    {
      "cell_type": "markdown",
      "metadata": {
        "id": "cca05731"
      },
      "source": [
        "<b>Please checkout other methods you can use with set using the link:</b>\n",
        "<a href=\"https://www.w3schools.com/python/python_ref_set.asp\">  Set Methods </a>"
      ]
    },
    {
      "cell_type": "markdown",
      "metadata": {
        "id": "1f156b67"
      },
      "source": [
        "##### Dictionary"
      ]
    },
    {
      "cell_type": "code",
      "execution_count": null,
      "metadata": {
        "id": "717b43b6"
      },
      "outputs": [],
      "source": [
        "# A dictionary consists of key-value pairs similar to a JSON data type; the keys must be unique\n",
        "dict_1 = {'Name':'Shelby', 'Age':35, 'Hobbies':['Horse Riding', 'Singing'], 'UUID':'045', 3:'Accountant'}\n",
        "dict_1"
      ]
    },
    {
      "cell_type": "code",
      "execution_count": null,
      "metadata": {
        "id": "372cb74e"
      },
      "outputs": [],
      "source": [
        "# We access each key-value pair using the 'key' in the dictionary\n",
        "print(dict_1['Name'])\n",
        "print(dict_1[3])"
      ]
    },
    {
      "cell_type": "code",
      "execution_count": null,
      "metadata": {
        "id": "a1224e48"
      },
      "outputs": [],
      "source": [
        "# We can update the dictionary by specifying the key and assigning a value to it\n",
        "dict_1['Married'] = 'Yes'\n",
        "dict_1['Name'] = 'Susan'\n",
        "dict_1"
      ]
    },
    {
      "cell_type": "code",
      "execution_count": null,
      "metadata": {
        "id": "6f611e5d"
      },
      "outputs": [],
      "source": [
        "# Obtain all keys in a dictionary\n",
        "all_keys = list(dict_1.keys())\n",
        "print(all_keys,'\\n')\n",
        "\n",
        "# Obtain all the values in a dictionary\n",
        "all_values = dict_1.values()\n",
        "print(all_values, '\\n')\n",
        "\n",
        "# obtain all key-value pairs as a list of tuples\n",
        "key_value = list(dict_1.items())\n",
        "print(key_value)"
      ]
    },
    {
      "cell_type": "markdown",
      "metadata": {
        "id": "8a886ea2"
      },
      "source": [
        "<b>Please checkout other methods you can use with Dictionaries using the link:</b>\n",
        "<a href=\"https://www.w3schools.com/python/python_ref_dictionary.asp\">  Dictionary Methods </a>"
      ]
    },
    {
      "cell_type": "markdown",
      "metadata": {
        "id": "60242c0c"
      },
      "source": [
        "#### Python Built-in Functions"
      ]
    },
    {
      "cell_type": "code",
      "execution_count": null,
      "metadata": {
        "id": "f19a9755"
      },
      "outputs": [],
      "source": [
        "# We have used some of these functions previously such as the print(), len(), Zip()\n",
        "\n",
        "# Use the max() and min() to get the maximum and minimum number in an iterable\n",
        "print(f\"list_1: {list_1}\")\n",
        "print()\n",
        "\n",
        "print(f\"Maximum number: {max(list_1)}\")\n",
        "print(f\"Minimum number: {min(list_1)}\")"
      ]
    },
    {
      "cell_type": "code",
      "execution_count": null,
      "metadata": {
        "id": "268ebfeb"
      },
      "outputs": [],
      "source": [
        "# We can get what data type a variable is by using the Type() function\n",
        "print(f\"Data type of list_1: {type(list_1)}\")\n",
        "print(f\"Data type of tup_1: {type(tup_1)}\")\n",
        "print(f\"Data type of dict_1: {type(dict_1)}\")\n",
        "print(f\"Data type of 1: {type(1)}\")\n",
        "print(f\"Data type of str_1: {type(str_1)}\")"
      ]
    },
    {
      "cell_type": "code",
      "execution_count": null,
      "metadata": {
        "id": "07cf6d56"
      },
      "outputs": [],
      "source": [
        "# Create a list of range of numbers using the range function\n",
        "range_1 = range(1, 10)\n",
        "\n",
        "range_2 = range(1, 20, 2)\n",
        "\n",
        "print(f\"range_1: {list(range_1)}\")\n",
        "print(f\"range_2: {list(range_2)}\")"
      ]
    },
    {
      "cell_type": "markdown",
      "metadata": {
        "id": "5c4a50b6"
      },
      "source": [
        "<b>Please checkout other Python Built-in functions using the link:</b>\n",
        "<a href=\"https://www.w3schools.com/python/python_ref_functions.asp\">  Built-in Functions </a>"
      ]
    },
    {
      "cell_type": "markdown",
      "metadata": {
        "id": "ec241fd4"
      },
      "source": [
        "#### Logical statements (if...else)"
      ]
    },
    {
      "cell_type": "code",
      "execution_count": null,
      "metadata": {
        "id": "6ed83825"
      },
      "outputs": [],
      "source": [
        "# Python supports logical conditions\n",
        "# '==' means equal\n",
        "# '!=' means not equal\n",
        "#  '<' means less than\n",
        "#  '<=' means less than or equal to\n",
        "#  '>=' means greater than or equal to\n",
        "\n",
        "# Declare some variables\n",
        "var_a = 45.6\n",
        "var_b = 23.45\n",
        "var_c = 45.0\n",
        "var_d = 45.0\n",
        "\n",
        "# We use the 'if' keyword in python for conditioning; logical statements always returns True or False\n",
        "if var_a < var_b:\n",
        "    print(f\"{var_a} is less than {var_b}\")\n",
        "\n",
        "elif var_a == var_b:\n",
        "    print(f\"{var_a} is equal to {var_b}\")\n",
        "    \n",
        "elif var_a > var_b:\n",
        "    print(f\"{var_a} is greater than {var_b}\")\n",
        "     \n",
        "elif var_a >= var_b:\n",
        "    print(f\"{var_a} is greater than or equal to {var_b}\")\n",
        "\n",
        "else:\n",
        "    print(\"I do not get it\")\n",
        "\n",
        "# if var_a >= var_b:\n",
        "#     print(f\"{var_a} is greater than or equal to {var_b}\")"
      ]
    },
    {
      "cell_type": "code",
      "execution_count": null,
      "metadata": {
        "id": "8fbcc755"
      },
      "outputs": [],
      "source": [
        "# We use the logical operators 'and', 'or', 'not' to join series of conditional statements\n",
        "if var_a < var_b and var_c == var_d:\n",
        "    print(f\"{var_a} is less than {var_b}\")\n",
        "    print(f\"{var_c} is equal to {var_d}\")\n",
        "\n",
        "elif var_a > var_b and var_c == var_d:\n",
        "    print(f\"{var_a} is greater than {var_b}\")\n",
        "    print(f\"{var_c} is equal to {var_d}\")\n",
        "    "
      ]
    },
    {
      "cell_type": "code",
      "execution_count": null,
      "metadata": {
        "id": "db203dad"
      },
      "outputs": [],
      "source": [
        "# We use the logical operators 'and', 'or', 'not' to join series of conditional statements\n",
        "if var_a < var_b or var_c == var_d:\n",
        "    print(\"one of the statements is True\")\n",
        "\n",
        "elif var_a > var_b or var_c == var_d:\n",
        "    print(f\"{var_a} is greater than {var_b}\")\n",
        "    print(f\"{var_c} is equal to {var_d}\")"
      ]
    },
    {
      "cell_type": "code",
      "execution_count": null,
      "metadata": {
        "id": "6e0f0a1c"
      },
      "outputs": [],
      "source": [
        "# We can further perform logical operations with an iterable\n",
        "list_0 = ['EUR', 'USD', 'GBP', 'AUD', 'CAD', 'JPY']\n",
        "\n",
        "if 'EUR' in list_0:\n",
        "    print(f\"EUR is in {list_0}\")\n",
        "\n",
        "if 'USD' not in list_0:\n",
        "    print(f\"USD not in {list_0}\")\n",
        "\n",
        "else:\n",
        "    print(f\"USD is in {list_0}\")"
      ]
    },
    {
      "cell_type": "code",
      "execution_count": null,
      "metadata": {
        "id": "1e4622b2"
      },
      "outputs": [],
      "source": [
        "# Nested if..else statements\n",
        "if 'EUR' in list_0:\n",
        "    if var_a < var_b:\n",
        "        print(f\"{var_a} is less than {var_b}\")\n",
        "    else:\n",
        "        print(f\"True but {var_a} is not less than {var_b}\")\n",
        "\n",
        "elif 'USD' in list_0:\n",
        "    if var_a > var_b:\n",
        "        print(f\"{var_a} is greater than {var_b}\")\n",
        "    else:\n",
        "        print(f\"True and {var_a} is greater than {var_b}\")"
      ]
    },
    {
      "cell_type": "markdown",
      "metadata": {
        "id": "2a9aad6e"
      },
      "source": [
        "#### Looping"
      ]
    },
    {
      "cell_type": "code",
      "execution_count": null,
      "metadata": {
        "id": "3ff5e021"
      },
      "outputs": [],
      "source": [
        "# Using For Loop to iterate over a number of times\n",
        "list_for = []\n",
        "for i in range(0, 10):\n",
        "    list_for.append(i)\n",
        "    print(list_for)\n"
      ]
    },
    {
      "cell_type": "code",
      "execution_count": null,
      "metadata": {
        "id": "be171ec6"
      },
      "outputs": [],
      "source": [
        "# Looping through an iterable\n",
        "for item in list_0:\n",
        "    print(item)"
      ]
    },
    {
      "cell_type": "code",
      "execution_count": null,
      "metadata": {
        "id": "bcfadec9"
      },
      "outputs": [],
      "source": [
        "# Looping through an iterable using the index\n",
        "for index in range(len(list_0)):\n",
        "    print(list_0[index])"
      ]
    },
    {
      "cell_type": "code",
      "execution_count": null,
      "metadata": {
        "id": "02554ca7"
      },
      "outputs": [],
      "source": [
        "# A while loop can be used to achieve anything a For loop can do\n",
        "index = 0\n",
        "while index < len(list_0):\n",
        "    print(list_0[index])\n",
        "    index += 1"
      ]
    },
    {
      "cell_type": "code",
      "execution_count": null,
      "metadata": {
        "id": "c628a425"
      },
      "outputs": [],
      "source": [
        "print(dict_1)\n",
        "print()\n",
        "\n",
        "# Looping through the items in a dictionary\n",
        "for key, value in dict_1.items():\n",
        "    print(key, value)"
      ]
    },
    {
      "cell_type": "code",
      "execution_count": null,
      "metadata": {
        "id": "f8af8202"
      },
      "outputs": [],
      "source": [
        "print(set_2)\n",
        "print()\n",
        "\n",
        "# Looping through a set using enumerate()\n",
        "for index, item in enumerate(set_2):\n",
        "    print(index, item)\n",
        "    print(list_0[index])\n",
        "    print()"
      ]
    },
    {
      "cell_type": "markdown",
      "metadata": {
        "id": "97a509b8"
      },
      "source": [
        "#### User-Defined Functions\n",
        "\n",
        "Functions we define ourselves to perform specific task is called User-Defined Function. \n",
        "User-defined functions help to decompose a large program into small segments which makes the program easy to understand, maintain and debug."
      ]
    },
    {
      "cell_type": "code",
      "execution_count": null,
      "metadata": {
        "id": "2d7f8e51",
        "outputId": "1df3df8d-ec12-4063-c92b-658263869abf"
      },
      "outputs": [
        {
          "name": "stdout",
          "output_type": "stream",
          "text": [
            "Dumb! 3 is always less than 5\n"
          ]
        }
      ],
      "source": [
        "# We define a function using the 'def' keyword followed by the function name, the arguments, and a return statement\n",
        "def print_something():\n",
        "    \n",
        "    if 3 < 5:\n",
        "        print(\"Well, that's obvious\")\n",
        "    else:\n",
        "        print(\"Nope\")\n",
        "\n",
        "    return\n",
        "\n",
        "print_something()"
      ]
    },
    {
      "cell_type": "code",
      "execution_count": null,
      "metadata": {
        "id": "443355d6"
      },
      "outputs": [],
      "source": [
        "# We define another function with arguments\n",
        "def add_numbers(array):\n",
        "    \n",
        "    sum_list = 0\n",
        "    for num in array:\n",
        "        sum_list += num\n",
        "    \n",
        "    return sum_list\n",
        "\n",
        "list_sum = [1, 3, 5, 7, 11, 13, 17]\n",
        "print(f\"The sum of numbers in the list is: {add_numbers(list_sum)}\")"
      ]
    },
    {
      "cell_type": "code",
      "execution_count": null,
      "metadata": {
        "id": "2f2d6a09"
      },
      "outputs": [],
      "source": [
        "# We can return array from a function\n",
        "def find_even_sum(array):\n",
        "    even_numbers = []\n",
        "    \n",
        "    for num in array:\n",
        "        if num % 2 == 0:\n",
        "            even_numbers.append(num)\n",
        "            \n",
        "        else:\n",
        "            continue\n",
        "    \n",
        "    print(f\"The even numbers in the list are: {even_numbers}\")\n",
        "    \n",
        "    sum_even_numbers = add_numbers(even_numbers)\n",
        "    \n",
        "    return sum_even_numbers\n",
        "\n",
        "numbers = [1, 34, 22, 55, 67, 86, 100, 201, 33, 22, 24, 18, 21, 17, 15]\n",
        "evens = find_even_sum(numbers)\n",
        "\n",
        "print(f\"The sum of even numbers in the list is: {evens}\")"
      ]
    },
    {
      "cell_type": "code",
      "execution_count": null,
      "metadata": {
        "id": "603dd978"
      },
      "outputs": [],
      "source": [
        "def gt_than_num(array, number):\n",
        "    for num in array:\n",
        "        if num > number:\n",
        "            return True\n",
        "        else:\n",
        "            continue\n",
        "    \n",
        "    return False\n",
        "\n",
        "num_bers = [5, 43.3, 97, 22.1, 5, 89, 12]\n",
        "num = 90\n",
        "print(f\"A number in the list {num_bers} is greater than {num}: {gt_than_num(num_bers, num)}\")"
      ]
    },
    {
      "cell_type": "markdown",
      "metadata": {
        "id": "538a7ee6"
      },
      "source": [
        "#### Recursion\n",
        "\n",
        "A recursive function is a function which calls itself. It can be helpful to avoid a lot of nested iterations and make code look clean"
      ]
    },
    {
      "cell_type": "code",
      "execution_count": null,
      "metadata": {
        "id": "ef953d18",
        "outputId": "646c708e-2f28-4421-cb8a-052c8d503052"
      },
      "outputs": [
        {
          "data": {
            "text/plain": [
              "24"
            ]
          },
          "metadata": {},
          "output_type": "display_data"
        }
      ],
      "source": [
        "# We will look at a simple recursive function which calculates factorial of a number;\n",
        "# 1! = 1\n",
        "# 2! = 2 * 1!\n",
        "# 3! = 3 * 2!\n",
        "# 4! = 4 * 3!\n",
        "# 5! ......\n",
        "\n",
        "# Create a function that calls itself \n",
        "def calc_factorial(num):\n",
        "    \n",
        "    if num == 0 or num == 1:\n",
        "        return 1\n",
        "    else:\n",
        "        return (num * calc_factorial(num - 1))\n",
        "\n",
        "calc_factorial(4)"
      ]
    },
    {
      "cell_type": "markdown",
      "metadata": {
        "id": "2eda8e5b"
      },
      "source": [
        "#### Error & Exceptions\n",
        "\n",
        "Errors in Python can be of two types - \"Syntax Error\" and \"Exceptions\"\n",
        "\n",
        "<b>Syntax error</b> arises from wrong syntax in the code which leads to code failure. This is by far the most common error in programming and easiest to fix. \n",
        "\n",
        "<b>Exceptions:</b> These errors are raised when the code is syntactically correct but the execution of the code leads to an error. This error does not stop program execution but can change the program flow and produce unexpected results. "
      ]
    },
    {
      "cell_type": "code",
      "execution_count": null,
      "metadata": {
        "id": "87e92e2d",
        "outputId": "53a8015f-6dc3-4a17-c956-3012efa5ef0f"
      },
      "outputs": [
        {
          "ename": "SyntaxError",
          "evalue": "Missing parentheses in call to 'print'. Did you mean print(\"Hello world\")? (<ipython-input-44-9fb80848b1b7>, line 1)",
          "output_type": "error",
          "traceback": [
            "\u001b[1;36m  File \u001b[1;32m\"<ipython-input-44-9fb80848b1b7>\"\u001b[1;36m, line \u001b[1;32m1\u001b[0m\n",
            "\u001b[1;33m    print \"Hello world\"\u001b[0m\n",
            "\u001b[1;37m          ^\u001b[0m\n",
            "\u001b[1;31mSyntaxError\u001b[0m\u001b[1;31m:\u001b[0m Missing parentheses in call to 'print'. Did you mean print(\"Hello world\")?\n"
          ]
        }
      ],
      "source": [
        "print \"Hello world\""
      ]
    },
    {
      "cell_type": "code",
      "execution_count": null,
      "metadata": {
        "id": "9bc30e93",
        "outputId": "2d127e0f-68fc-4b92-a4f9-fe4499ea6752"
      },
      "outputs": [
        {
          "ename": "SyntaxError",
          "evalue": "invalid syntax (<ipython-input-45-9114ffa803d4>, line 1)",
          "output_type": "error",
          "traceback": [
            "\u001b[1;36m  File \u001b[1;32m\"<ipython-input-45-9114ffa803d4>\"\u001b[1;36m, line \u001b[1;32m1\u001b[0m\n",
            "\u001b[1;33m    for i in range(20)\u001b[0m\n",
            "\u001b[1;37m                      ^\u001b[0m\n",
            "\u001b[1;31mSyntaxError\u001b[0m\u001b[1;31m:\u001b[0m invalid syntax\n"
          ]
        }
      ],
      "source": [
        "for i in range(20)\n",
        "    print(\"Hello\")"
      ]
    },
    {
      "cell_type": "code",
      "execution_count": null,
      "metadata": {
        "id": "6f52ee28",
        "outputId": "42f04f5a-a5da-46c4-9098-5915b9e58aee"
      },
      "outputs": [
        {
          "ename": "IndexError",
          "evalue": "list index out of range",
          "output_type": "error",
          "traceback": [
            "\u001b[1;31m---------------------------------------------------------------------------\u001b[0m\n",
            "\u001b[1;31mIndexError\u001b[0m                                Traceback (most recent call last)\n",
            "\u001b[1;32m<ipython-input-46-c2984cbd879d>\u001b[0m in \u001b[0;36m<module>\u001b[1;34m\u001b[0m\n",
            "\u001b[0;32m      1\u001b[0m \u001b[0mer_list\u001b[0m \u001b[1;33m=\u001b[0m \u001b[1;33m[\u001b[0m\u001b[1;34m'don'\u001b[0m\u001b[1;33m,\u001b[0m \u001b[1;34m'cat'\u001b[0m\u001b[1;33m,\u001b[0m \u001b[1;34m'fit'\u001b[0m\u001b[1;33m]\u001b[0m\u001b[1;33m\u001b[0m\u001b[1;33m\u001b[0m\u001b[0m\n",
            "\u001b[0;32m      2\u001b[0m \u001b[1;33m\u001b[0m\u001b[0m\n",
            "\u001b[1;32m----> 3\u001b[1;33m \u001b[0mprint\u001b[0m\u001b[1;33m(\u001b[0m\u001b[0mer_list\u001b[0m\u001b[1;33m[\u001b[0m\u001b[1;36m4\u001b[0m\u001b[1;33m]\u001b[0m\u001b[1;33m)\u001b[0m\u001b[1;33m\u001b[0m\u001b[1;33m\u001b[0m\u001b[0m\n",
            "\u001b[0m\n",
            "\u001b[1;31mIndexError\u001b[0m: list index out of range"
          ]
        }
      ],
      "source": [
        "er_list = ['don', 'cat', 'fit']\n",
        "\n",
        "print(er_list[4])"
      ]
    },
    {
      "cell_type": "code",
      "execution_count": null,
      "metadata": {
        "id": "e6288143",
        "outputId": "0ab06a6b-e4b7-435f-f1dd-062e19884898"
      },
      "outputs": [
        {
          "name": "stdout",
          "output_type": "stream",
          "text": [
            "{1: 'Beetle', 2: 'Octopus', 3: 'Frog', 4: 'Mice'}\n"
          ]
        },
        {
          "ename": "KeyError",
          "evalue": "5",
          "output_type": "error",
          "traceback": [
            "\u001b[1;31m---------------------------------------------------------------------------\u001b[0m\n",
            "\u001b[1;31mKeyError\u001b[0m                                  Traceback (most recent call last)\n",
            "\u001b[1;32m<ipython-input-47-66f9a329f926>\u001b[0m in \u001b[0;36m<module>\u001b[1;34m\u001b[0m\n",
            "\u001b[0;32m      4\u001b[0m \u001b[0mprint\u001b[0m\u001b[1;33m(\u001b[0m\u001b[0mdict_err\u001b[0m\u001b[1;33m)\u001b[0m\u001b[1;33m\u001b[0m\u001b[1;33m\u001b[0m\u001b[0m\n",
            "\u001b[0;32m      5\u001b[0m \u001b[1;33m\u001b[0m\u001b[0m\n",
            "\u001b[1;32m----> 6\u001b[1;33m \u001b[0mdict_err\u001b[0m\u001b[1;33m[\u001b[0m\u001b[1;36m5\u001b[0m\u001b[1;33m]\u001b[0m\u001b[1;33m\u001b[0m\u001b[1;33m\u001b[0m\u001b[0m\n",
            "\u001b[0m\n",
            "\u001b[1;31mKeyError\u001b[0m: 5"
          ]
        }
      ],
      "source": [
        "li_1 = ['Beetle', 'Octopus', 'Frog', 'Mice']\n",
        "li_2 = [1, 2, 3, 4]\n",
        "dict_err = dict(zip(li_2, li_1))\n",
        "print(dict_err)\n",
        "\n",
        "dict_err[5]"
      ]
    },
    {
      "cell_type": "code",
      "execution_count": null,
      "metadata": {
        "id": "b96fadb3",
        "outputId": "38699b57-c1d0-4498-ecd4-b85bd13d3ed8"
      },
      "outputs": [
        {
          "ename": "TypeError",
          "evalue": "unsupported operand type(s) for +: 'int' and 'str'",
          "output_type": "error",
          "traceback": [
            "\u001b[1;31m---------------------------------------------------------------------------\u001b[0m\n",
            "\u001b[1;31mTypeError\u001b[0m                                 Traceback (most recent call last)\n",
            "\u001b[1;32m<ipython-input-48-aea4cc6eff9c>\u001b[0m in \u001b[0;36m<module>\u001b[1;34m\u001b[0m\n",
            "\u001b[0;32m      2\u001b[0m \u001b[0mvar_21\u001b[0m \u001b[1;33m=\u001b[0m \u001b[1;34m'34'\u001b[0m\u001b[1;33m\u001b[0m\u001b[1;33m\u001b[0m\u001b[0m\n",
            "\u001b[0;32m      3\u001b[0m \u001b[1;33m\u001b[0m\u001b[0m\n",
            "\u001b[1;32m----> 4\u001b[1;33m \u001b[0mprint\u001b[0m\u001b[1;33m(\u001b[0m\u001b[0mvar_11\u001b[0m \u001b[1;33m+\u001b[0m \u001b[0mvar_21\u001b[0m\u001b[1;33m)\u001b[0m\u001b[1;33m\u001b[0m\u001b[1;33m\u001b[0m\u001b[0m\n",
            "\u001b[0m\n",
            "\u001b[1;31mTypeError\u001b[0m: unsupported operand type(s) for +: 'int' and 'str'"
          ]
        }
      ],
      "source": [
        "var_11 = 45\n",
        "var_21 = '34'\n",
        "\n",
        "print(var_11 + var_21)"
      ]
    },
    {
      "cell_type": "code",
      "execution_count": null,
      "metadata": {
        "id": "301edaa0",
        "outputId": "ba29dcb5-98e5-4912-e127-f6a24ee2301e"
      },
      "outputs": [
        {
          "ename": "TypeError",
          "evalue": "print_s() takes 0 positional arguments but 1 was given",
          "output_type": "error",
          "traceback": [
            "\u001b[1;31m---------------------------------------------------------------------------\u001b[0m\n",
            "\u001b[1;31mTypeError\u001b[0m                                 Traceback (most recent call last)\n",
            "\u001b[1;32m<ipython-input-49-df085280e2c1>\u001b[0m in \u001b[0;36m<module>\u001b[1;34m\u001b[0m\n",
            "\u001b[0;32m      4\u001b[0m     \u001b[1;32mreturn\u001b[0m\u001b[1;33m\u001b[0m\u001b[1;33m\u001b[0m\u001b[0m\n",
            "\u001b[0;32m      5\u001b[0m \u001b[1;33m\u001b[0m\u001b[0m\n",
            "\u001b[1;32m----> 6\u001b[1;33m \u001b[0mprint_s\u001b[0m\u001b[1;33m(\u001b[0m\u001b[1;36m23\u001b[0m\u001b[1;33m)\u001b[0m\u001b[1;33m\u001b[0m\u001b[1;33m\u001b[0m\u001b[0m\n",
            "\u001b[0m\n",
            "\u001b[1;31mTypeError\u001b[0m: print_s() takes 0 positional arguments but 1 was given"
          ]
        }
      ],
      "source": [
        "def print_s():\n",
        "    print(\"Hello dear\")\n",
        "    \n",
        "    return\n",
        "\n",
        "print_s(23)"
      ]
    },
    {
      "cell_type": "code",
      "execution_count": null,
      "metadata": {
        "id": "9df9a995",
        "outputId": "312ea36f-b1e7-41b4-f45d-3d1b8029b0b5"
      },
      "outputs": [
        {
          "ename": "TypeError",
          "evalue": "'>' not supported between instances of 'str' and 'int'",
          "output_type": "error",
          "traceback": [
            "\u001b[1;31m---------------------------------------------------------------------------\u001b[0m\n",
            "\u001b[1;31mTypeError\u001b[0m                                 Traceback (most recent call last)\n",
            "\u001b[1;32m<ipython-input-50-debb13310612>\u001b[0m in \u001b[0;36m<module>\u001b[1;34m\u001b[0m\n",
            "\u001b[1;32m----> 1\u001b[1;33m \u001b[1;34m'tit'\u001b[0m \u001b[1;33m>\u001b[0m \u001b[1;36m3\u001b[0m\u001b[1;33m\u001b[0m\u001b[1;33m\u001b[0m\u001b[0m\n",
            "\u001b[0m\n",
            "\u001b[1;31mTypeError\u001b[0m: '>' not supported between instances of 'str' and 'int'"
          ]
        }
      ],
      "source": [
        "'tit' > 3"
      ]
    },
    {
      "cell_type": "code",
      "execution_count": null,
      "metadata": {
        "id": "d03e34d6",
        "outputId": "fa2b457f-3302-4d2e-bf26-d7dd2d5c1ade"
      },
      "outputs": [
        {
          "ename": "AttributeError",
          "evalue": "'tuple' object has no attribute 'append'",
          "output_type": "error",
          "traceback": [
            "\u001b[1;31m---------------------------------------------------------------------------\u001b[0m\n",
            "\u001b[1;31mAttributeError\u001b[0m                            Traceback (most recent call last)\n",
            "\u001b[1;32m<ipython-input-51-4ad048f4b9fc>\u001b[0m in \u001b[0;36m<module>\u001b[1;34m\u001b[0m\n",
            "\u001b[0;32m      1\u001b[0m \u001b[0mtup_err\u001b[0m \u001b[1;33m=\u001b[0m \u001b[1;33m(\u001b[0m\u001b[1;34m'bit'\u001b[0m\u001b[1;33m,\u001b[0m \u001b[1;34m'eat'\u001b[0m\u001b[1;33m)\u001b[0m\u001b[1;33m\u001b[0m\u001b[1;33m\u001b[0m\u001b[0m\n",
            "\u001b[1;32m----> 2\u001b[1;33m \u001b[0mtup_err\u001b[0m\u001b[1;33m.\u001b[0m\u001b[0mappend\u001b[0m\u001b[1;33m(\u001b[0m\u001b[1;34m'kit'\u001b[0m\u001b[1;33m)\u001b[0m\u001b[1;33m\u001b[0m\u001b[1;33m\u001b[0m\u001b[0m\n",
            "\u001b[0m\n",
            "\u001b[1;31mAttributeError\u001b[0m: 'tuple' object has no attribute 'append'"
          ]
        }
      ],
      "source": [
        "tup_err = ('bit', 'eat')\n",
        "tup_err.append('kit')"
      ]
    },
    {
      "cell_type": "markdown",
      "metadata": {
        "id": "yDYd8Pw_ab33"
      },
      "source": [
        "Fundamentals of NumPy\n",
        "## Table of Contents\n",
        "1. What is NumPy?\n",
        "2. Installation\n",
        "3. Initialization\n",
        "4. Accessing\n",
        "5. Modifying data\n",
        "6. Pivoting data\n",
        "7. Combining data\n",
        "8. Math operations"
      ]
    },
    {
      "cell_type": "markdown",
      "metadata": {
        "id": "h-n73IZJab33"
      },
      "source": [
        "## 1. What is NumPy?"
      ]
    },
    {
      "cell_type": "markdown",
      "metadata": {
        "id": "jfgSj7_hab34"
      },
      "source": [
        "NumPy is the fundamental package for scientific computing in Python. \n",
        "It is a Python library that provides and an assortment of operations for fast operations on arrays - from mathematical, logical operations to basic linear algebra, random simulation and much more."
      ]
    },
    {
      "cell_type": "markdown",
      "metadata": {
        "id": "o2GbmSOgab34"
      },
      "source": [
        "## 2. Installation\n",
        "Generally NumPy is pre-installed on CoLab/AWS. You should first check if NumPy is available and its version.\n",
        "\n",
        "To manually install Numpy, please follow the instructions below."
      ]
    },
    {
      "cell_type": "code",
      "execution_count": null,
      "metadata": {
        "id": "HRzREpKMab35"
      },
      "outputs": [],
      "source": [
        "# Check the installation of NumPy\n",
        "!pip show numpy\n",
        "\n",
        "# Install NumPy\n",
        "!pip install numpy\n",
        "\n",
        "# Import NumPy \n",
        "import numpy as np"
      ]
    },
    {
      "cell_type": "markdown",
      "metadata": {
        "id": "bPo2c9tOab36"
      },
      "source": [
        "## 3. Initialization"
      ]
    },
    {
      "cell_type": "markdown",
      "metadata": {
        "id": "YfSS9VgLab36"
      },
      "source": [
        "### a. Intrinsic NumPy array creation functions\n"
      ]
    },
    {
      "cell_type": "markdown",
      "metadata": {
        "id": "ET6RC4qCab37"
      },
      "source": [
        "#### 1D array creation functions"
      ]
    },
    {
      "cell_type": "code",
      "execution_count": null,
      "metadata": {
        "id": "rJDZQ-_aab38"
      },
      "outputs": [],
      "source": [
        "# return evenly spaced values within a given interval\n",
        "range_arr = np.arange(10)\n",
        "print(\"An array given range is \\n\", range_arr, \" with dimensions \", range_arr.shape, \"\\n\")\n",
        "\n",
        "# return evenly spaced numbers over a specified interval\n",
        "linspace_arr = np.linspace(2.0, 3.0, num=5, endpoint=False)\n",
        "print(\"An evenly spaced array given range is \\n\", linspace_arr, \" with dimensions \", linspace_arr.shape, \"\\n\")"
      ]
    },
    {
      "cell_type": "markdown",
      "metadata": {
        "id": "wmQ1j1C_ab38"
      },
      "source": [
        "#### General ndarray creation functions"
      ]
    },
    {
      "cell_type": "code",
      "execution_count": null,
      "metadata": {
        "id": "lmUKMG9Oab39"
      },
      "outputs": [],
      "source": [
        "# initialize an empty array with size 2 x 2\n",
        "empty_arr = np.empty((2, 2))\n",
        "print(\"An empty array is \\n\", empty_arr, \" with dimensions \", empty_arr.shape, \"\\n\")\n",
        "\n",
        "# initialize an all zero array with size 2 x 3\n",
        "zeros_arr = np.zeros((2, 3))\n",
        "print(\"A zeros array is \\n\", zeros_arr, \" with dimensions \", zeros_arr.shape, \"\\n\")\n",
        "\n",
        "# initialize an all one array with size 4 x 2\n",
        "ones_arr = np.ones((4, 2))\n",
        "print(\"A ones array is \\n\", ones_arr, \" with dimensions \", ones_arr.shape, \"\\n\")"
      ]
    },
    {
      "cell_type": "code",
      "execution_count": null,
      "metadata": {
        "id": "5-UlA478ab39"
      },
      "outputs": [],
      "source": [
        "# return an array of zeros with the same shape and type as a given array\n",
        "zeros_like_arr = np.zeros_like(ones_arr)\n",
        "print(\"A zero like array is \\n\", zeros_like_arr, \" with dimensions \", zeros_like_arr.shape, \"\\n\")\n",
        "\n",
        "# return an array of ones with the same shape and type as a given array\n",
        "ones_like_arr = np.ones_like(zeros_arr)\n",
        "print(\"A ones like array is \\n\", ones_like_arr, \" with dimensions \", ones_like_arr.shape, \"\\n\")"
      ]
    },
    {
      "cell_type": "code",
      "execution_count": null,
      "metadata": {
        "id": "a3QrFx4cab3-"
      },
      "outputs": [],
      "source": [
        "# return a new array of given shape and type, filled with fill_value\n",
        "tens_arr = np.full((2,2), 10)\n",
        "print(\"A filled array is \\n\", tens_arr, \" with dimensions \", tens_arr.shape, \"\\n\")\n",
        "\n",
        "# Return a full array with the same shape and type as a given array.\n",
        "full_like_arr = np.full_like(zeros_arr, 0.1, dtype=np.double)\n",
        "print(\"A full like array is \\n\", full_like_arr, \" with dimensions \", full_like_arr.shape, \"\\n\")"
      ]
    },
    {
      "cell_type": "code",
      "execution_count": null,
      "metadata": {
        "id": "O8ASMR3wab3_"
      },
      "outputs": [],
      "source": [
        "# We have three numeric data types: Integers, Floating points, and Complex numbers\n",
        "\n",
        "# We will focus on Integers and Floating points\n",
        "\n",
        "# Assign integer numbers to variables\n",
        "int_1 = 23\n",
        "int_2 = -21\n",
        "int_3 = 5\n",
        "\n",
        "# Assign floating point numbers to variables\n",
        "floating_1 = 3.56\n",
        "floating_2 = 8.98\n",
        "\n",
        "# We can perform arithmetic operations with the numeric values\n",
        "add_ = int_1 + floating_2\n",
        "sub_ = int_2 - floating_1\n",
        "div_2 = int_1 / floating_2\n",
        "mult_ = int_1 * floating_1\n",
        "\n",
        "# Return the quotient after a numeric division\n",
        "div_1 = int_1 // int_2\n",
        "\n",
        "# We can also get just the remainder after a numeric division\n",
        "rem_ = int_1 % int_2\n",
        "\n",
        "# The print built-in function comes in handy when you want to print a mix of variables and text/string\n",
        "print(\"The addition of\", int_1, \"and\", floating_2, \"is\", add_)\n",
        "\n",
        "# We can also use the 'f-format' print function to make printing easier and cohesive\n",
        "print(f\"The subtraction of {floating_1} from {int_2} is {sub_}\\n\")\n",
        "\n",
        "print(f\"The division of {int_1} by {floating_2} is {div_2}\")\n",
        "\n",
        "print(f\"The multiplication of {int_1} and {floating_1} is {mult_}\\n\")\n",
        "\n",
        "print(f\"The quotient when we divide {int_1} by {int_2} is {div_1}\")\n",
        "\n",
        "print(f\"The remainder when we divide {int_1} by {int_2} is {rem_}\")"
      ]
    }
  ],
  "metadata": {
    "kernelspec": {
      "display_name": "base-ml",
      "language": "python",
      "name": "python3"
    },
    "language_info": {
      "codemirror_mode": {
        "name": "ipython",
        "version": 3
      },
      "file_extension": ".py",
      "mimetype": "text/x-python",
      "name": "python",
      "nbconvert_exporter": "python",
      "pygments_lexer": "ipython3",
      "version": "3.10.6"
    },
    "orig_nbformat": 4,
    "vscode": {
      "interpreter": {
        "hash": "ad106cb88fa4918e65beeeb600eeb9a4517756af788de97d26b43a66f9075a64"
      }
    },
    "colab": {
      "provenance": []
    }
  },
  "nbformat": 4,
  "nbformat_minor": 0
}