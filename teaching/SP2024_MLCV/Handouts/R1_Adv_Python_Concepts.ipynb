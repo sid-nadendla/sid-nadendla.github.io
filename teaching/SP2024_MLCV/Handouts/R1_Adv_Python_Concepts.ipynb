{
  "cells": [
    {
      "cell_type": "markdown",
      "metadata": {
        "id": "79a7d672"
      },
      "source": [
        "### Object Oriented Programing (OOP)"
      ]
    },
    {
      "cell_type": "markdown",
      "metadata": {
        "id": "e8b89c99"
      },
      "source": [
        "Python is an object-oriented language which offers methods for creating classes and defining objects. \n",
        "\n",
        "A class is a collection instance variables and methods which together defines the nature or characteristics of an object type. Classes a basically the blue prints or templates from which objects are instantiated.\n",
        "\n",
        "An object is an instance of a class with its attributes or properties defined. A class serve as a construct for many objects"
      ]
    },
    {
      "cell_type": "code",
      "execution_count": 14,
      "metadata": {
        "id": "e88d8faa"
      },
      "outputs": [],
      "source": [
        "# We will create a class Book for a bookseller application\n",
        "class Book:\n",
        "    \n",
        "    # __init__ is a constructor for defining the class variables\n",
        "    def __init__(self, title, quantity, author, price):\n",
        "        \n",
        "        self.title = title\n",
        "        self.quantity = quantity\n",
        "        self.author = author\n",
        "        self.price = price"
      ]
    },
    {
      "cell_type": "code",
      "execution_count": null,
      "metadata": {
        "id": "47b15b79"
      },
      "outputs": [],
      "source": [
        "# Instantiating an object of the class Book\n",
        "book_1 = Book('Deception Point', 10, 'Dan Brown', 20)\n",
        "book_2 = Book('The Immortals of Meluha', 5, 'Amish Tripathi', 35)\n",
        "\n",
        "# printing the books just tells us that the variables are objects of class Book with their memory locations\n",
        "print(book_1)\n",
        "print(book_2)"
      ]
    },
    {
      "cell_type": "code",
      "execution_count": 21,
      "metadata": {
        "id": "49720144"
      },
      "outputs": [],
      "source": [
        "# We can add the __repr__ method which gives details of the object attributes\n",
        "class Book:\n",
        "    \n",
        "    # __init__ is a constructor for defining the class variables\n",
        "    def __init__(self, title, quantity, author, price):\n",
        "        \n",
        "        self.title = title\n",
        "        self.quantity = quantity\n",
        "        self.author = author\n",
        "        self.price = price\n",
        "    \n",
        "    # Define some other random method for this class (get the date of book publish)\n",
        "    def get_publish(self):\n",
        "        day = str(self.price)\n",
        "        return day + '/06/2010'\n",
        "        \n",
        "    def __repr__(self):\n",
        "        return f\"Book: {self.title}, Quantity: {self.quantity}, Author: {self.author}, Price: {self.price}\""
      ]
    },
    {
      "cell_type": "code",
      "source": [
        "# Instantiating an object of the class Book\n",
        "book_1 = Book('Deception Point', 10, 'Dan Brown', 20)\n",
        "book_2 = Book('The Immortals of Meluha', 5, 'Amish Tripathi', 35)\n",
        "\n",
        "# printing the books just tells us that the variables are objects of class Book with their memory locations\n",
        "print(book_1)\n",
        "print(book_2)"
      ],
      "metadata": {
        "id": "Rv2yjXSr9w8N"
      },
      "execution_count": null,
      "outputs": []
    },
    {
      "cell_type": "code",
      "execution_count": null,
      "metadata": {
        "id": "af22e020"
      },
      "outputs": [],
      "source": [
        "# We can also get the individual attribute of each book using the '.' operator\n",
        "print(book_1.author)\n",
        "print(book_2.title)"
      ]
    },
    {
      "cell_type": "code",
      "execution_count": null,
      "metadata": {
        "id": "aa3343cb"
      },
      "outputs": [],
      "source": [
        "book_1.get_publish()"
      ]
    },
    {
      "cell_type": "markdown",
      "metadata": {
        "id": "c7ca48a3"
      },
      "source": [
        "#### Encapsulation"
      ]
    },
    {
      "cell_type": "markdown",
      "metadata": {
        "id": "55d15128"
      },
      "source": [
        "This is a core concept or advantage of OOP. __Encapsulation__ provides a means of preventing unauthorized access to some instance varibles of an object. This keeps the variables hidden and inaccessible often referred to as private variables\n",
        "\n",
        "To create a private variable we use the double underscore (__variableName) in front of the variable name"
      ]
    },
    {
      "cell_type": "code",
      "execution_count": 25,
      "metadata": {
        "id": "4630429d"
      },
      "outputs": [],
      "source": [
        "# Let's add some private variables to our class\n",
        "class Book:\n",
        "    \n",
        "    # __init__ is a constructor for defining the class variables\n",
        "    def __init__(self, title, quantity, author, price):\n",
        "        \n",
        "        self.title = title\n",
        "        self.quantity = quantity\n",
        "        self.author = author\n",
        "        \n",
        "        # We make the price a private variable and create another private variable 'discount'\n",
        "        self.__price = price\n",
        "        self.__discount = None\n",
        "        \n",
        "    \n",
        "    # Define some other random method for this class (get the date of book publish)\n",
        "    def get_publish(self):\n",
        "        day = str(self.price)\n",
        "        return day + '/06/2010'\n",
        "        \n",
        "    def __repr__(self):\n",
        "        return f\"Book: {self.title}, Quantity: {self.quantity}, Author: {self.author}\""
      ]
    },
    {
      "cell_type": "code",
      "execution_count": 32,
      "metadata": {
        "colab": {
          "base_uri": "https://localhost:8080/"
        },
        "id": "6adaf24d",
        "outputId": "692b74c9-47b6-4ea6-bf46-77909d55d443"
      },
      "outputs": [
        {
          "output_type": "stream",
          "name": "stdout",
          "text": [
            "Book: Deception Point, Quantity: 10, Author: Dan Brown\n",
            "Book: The Immortals of Meluha, Quantity: 5, Author: Amish Tripathi\n"
          ]
        }
      ],
      "source": [
        "# Instantiating an object of the class Book\n",
        "book_1 = Book('Deception Point', 10, 'Dan Brown', 20)\n",
        "book_2 = Book('The Immortals of Meluha', 5, 'Amish Tripathi', 35)\n",
        "\n",
        "# printing the books just tells us that the variables are objects of class Book with their memory locations\n",
        "print(book_1)\n",
        "print(book_2)"
      ]
    },
    {
      "cell_type": "code",
      "execution_count": null,
      "metadata": {
        "id": "2f514c45"
      },
      "outputs": [],
      "source": [
        "print(book_1.title)\n",
        "\n",
        "# We are unable to print the value of the discount because it is a private variable\n",
        "print(book_1.__discount)"
      ]
    },
    {
      "cell_type": "code",
      "execution_count": null,
      "metadata": {
        "id": "0bf3846d"
      },
      "outputs": [],
      "source": [
        "# Price variable is now private so we can not access variable directly\n",
        "print(book_2.__price)"
      ]
    },
    {
      "cell_type": "code",
      "execution_count": 35,
      "metadata": {
        "id": "06568295"
      },
      "outputs": [],
      "source": [
        "# We can use setters and getter methods to access these variables\n",
        "class Book:\n",
        "    \n",
        "    # __init__ is a constructor for defining the class variables\n",
        "    def __init__(self, title, quantity, author, price):\n",
        "        \n",
        "        self.title = title\n",
        "        self.quantity = quantity\n",
        "        self.author = author\n",
        "        \n",
        "        # We make the price a private variable and create another private variable 'discount'\n",
        "        self.__price = price\n",
        "        self.__discount = 0\n",
        "        \n",
        "    # Define a setter for discount\n",
        "    def set_discount(self, discount):\n",
        "        self.__discount = discount\n",
        "    \n",
        "    \n",
        "    # Define a getter for the price\n",
        "    def get_price(self):\n",
        "        \n",
        "        if self.quantity < 5:\n",
        "            return self.__price\n",
        "        \n",
        "        elif self.quantity > 5 and self.quantity < 20:\n",
        "            return self.__price * (1 - self.__discount)\n",
        "        \n",
        "        else:\n",
        "            return self.__price * (1 - 1.5*self.__discount)\n",
        "    \n",
        "    \n",
        "    # Define some other random method for this class (get the date of book publish)\n",
        "    def get_publish(self):\n",
        "        day = str(self.price)\n",
        "        return day + '/05/2010'\n",
        "        \n",
        "    def __repr__(self):\n",
        "        return f\"Book: {self.title}, Quantity: {self.quantity}, Author: {self.author}\""
      ]
    },
    {
      "cell_type": "code",
      "execution_count": 36,
      "metadata": {
        "id": "35193de1"
      },
      "outputs": [],
      "source": [
        "# Instantiating an object of the class Book\n",
        "book_1 = Book('Deception Point', 10, 'Dan Brown', 20)\n",
        "book_2 = Book('The Immortals of Meluha', 5, 'Amish Tripathi', 35)"
      ]
    },
    {
      "cell_type": "code",
      "execution_count": null,
      "metadata": {
        "id": "f475a1df"
      },
      "outputs": [],
      "source": [
        "# Set the discount for the book\n",
        "book_1.set_discount(0.15)\n",
        "\n",
        "# Get the price of the book using the getter method\n",
        "book_1.get_price()"
      ]
    },
    {
      "cell_type": "markdown",
      "metadata": {
        "id": "7a96398c"
      },
      "source": [
        "#### Inheritance\n",
        "\n",
        "This is another concept of OOP which allows new classes to be created off from other classes. Inheritance simply allows new classes to inherit other classes templates/blueprints (i.e. methods and variables) in creating theirs.\n",
        "\n",
        "The subclass or child class is the class that inherits. The superclass or parent class is the class from which methods and/or attributes are inherited."
      ]
    },
    {
      "cell_type": "code",
      "execution_count": null,
      "metadata": {
        "id": "eb3b575d"
      },
      "outputs": [],
      "source": [
        "# We can add new subclasses to our main Book class; A subclass can be a Novel class or Academic class.\n",
        "# A Novel is a book same as Academic book, so it makes sense to inherit methods and variables from the Book class\n",
        "\n",
        "# To create a subclass we use the class keyword as usual but reference the name of the parent class in parentheses\n",
        "# References the parent class as \"Book\"\n",
        "\n",
        "class Novel(Book):\n",
        "    \n",
        "    # This is the constructor for the Novel class\n",
        "    def __init__(self, title, quantity, author, price, pages):\n",
        "        \n",
        "        # This initializes the instance variables inherited from the parent class \n",
        "        super().__init__(title, quantity, author, price)\n",
        "        \n",
        "        # This declares a new variable for this class\n",
        "        self.pages = pages\n",
        "        \n",
        "    def get_rating(self):\n",
        "        return 3.5\n"
      ]
    },
    {
      "cell_type": "code",
      "execution_count": null,
      "metadata": {
        "id": "6b18d422"
      },
      "outputs": [],
      "source": [
        "novel_book = Novel('The london bridge', 23, 'Rit Brian', 20, 109)"
      ]
    },
    {
      "cell_type": "code",
      "execution_count": null,
      "metadata": {
        "id": "6ac73e4f"
      },
      "outputs": [],
      "source": [
        "# We can access this instance from the super class\n",
        "novel_book.title"
      ]
    },
    {
      "cell_type": "code",
      "execution_count": null,
      "metadata": {
        "id": "e991cfa2"
      },
      "outputs": [],
      "source": [
        "# Both method accessed through the parent class\n",
        "novel_book.set_discount(0.10)\n",
        "novel_book.get_price()"
      ]
    },
    {
      "cell_type": "code",
      "execution_count": null,
      "metadata": {
        "id": "3192c7d3"
      },
      "outputs": [],
      "source": [
        "# We can also access its own method and instance variables\n",
        "print(novel_book.pages)\n",
        "print(novel_book.get_rating())"
      ]
    },
    {
      "cell_type": "markdown",
      "metadata": {
        "id": "59166beb"
      },
      "source": [
        "#### Polymorphism\n",
        "\n",
        " This is the ability of a subclass to change a method which already exists in the parent class to meet its own needs"
      ]
    },
    {
      "cell_type": "code",
      "execution_count": null,
      "metadata": {
        "id": "d75134b4"
      },
      "outputs": [],
      "source": [
        "# The __repr__ exist in the parent class Book is used for printing\n",
        "# Novel class also inherited this method\n",
        "\n",
        "print(novel_book)"
      ]
    },
    {
      "cell_type": "code",
      "execution_count": null,
      "metadata": {
        "id": "1d4561a1"
      },
      "outputs": [],
      "source": [
        "# We can overide that method in the parent class by redefining it in this subclass\n",
        "class Novel(Book):\n",
        "    \n",
        "    # This is the constructor for the Novel class\n",
        "    def __init__(self, title, quantity, author, price, pages):\n",
        "        \n",
        "        # This initializes the instance variables inherited from the parent class \n",
        "        super().__init__(title, quantity, author, price)\n",
        "        \n",
        "        # This declares a new variable for this class\n",
        "        self.pages = pages\n",
        "        \n",
        "    def get_rating(self):\n",
        "        return 3.5\n",
        "    \n",
        "    def __repr__(self):\n",
        "        return f\"Book: {self.title}, Quantity: {self.quantity}, Author: {self.author}, Pages:{self.pages}, Price:{self.get_price()}\"\n",
        "        "
      ]
    },
    {
      "cell_type": "code",
      "execution_count": null,
      "metadata": {
        "id": "322f5b5c"
      },
      "outputs": [],
      "source": [
        "novel_book2 = Novel('The london bridge', 23, 'Rit Brian', 20, 109)\n",
        "novel_book2.set_discount(0.20)\n",
        "\n",
        "# The new print style uses the one defined in the subclass and not the parentclass\n",
        "print(novel_book2)"
      ]
    },
    {
      "cell_type": "markdown",
      "metadata": {
        "id": "1a5d6473"
      },
      "source": [
        "##### NOTE: Python does not support method overloading i.e., you can not use same name for different methods in a class even if their return type and/or number of arguments are different as you would do in other programming languages"
      ]
    },
    {
      "cell_type": "markdown",
      "metadata": {
        "id": "16hChj0gunU2"
      },
      "source": [
        "# Reading and Saving (Numpy)\n",
        "\n",
        "Documentation: [Numpy Docs](https://numpy.org/doc/stable/reference/routines.io.html)\n"
      ]
    },
    {
      "cell_type": "code",
      "execution_count": null,
      "metadata": {
        "id": "C2VAAHgSlN96"
      },
      "outputs": [],
      "source": [
        "import numpy as np\n",
        "\n",
        "# npy\n",
        "# saving as numpy array\n",
        "# creates a numpy array of ones of given sizse\n",
        "tmp_array = np.ones((3,3))\n",
        "# saves the passed numpy array with the passed name the current directory\n",
        "np.save(\"tmp_array.npy\", tmp_array)\n",
        "# np.load loads numpy arrays\n",
        "read_array = np.load(\"tmp_array.npy\")\n",
        "\n",
        "# Pickle is  used to help with serialiization\n",
        "# Here we have list of lists of different sizes which is converted to numpy array\n",
        "tmp_array_pkl = np.array([[0,1],[2,3,4],[5,6,7,8]], dtype=object)\n",
        "# The above has become a list of objects so to be able to save it we need to allow pickle\n",
        "np.save(\"tmp_array_pkl.npy\", tmp_array_pkl, allow_pickle=True)\n",
        "# We'll use numpy.load() but since are file is pickled we need to set allow_pickle=True\n",
        "read_array_pkl = np.load(\"tmp_array_pkl.npy\", allow_pickle=True)\n",
        "\n",
        "print(read_array)\n",
        "print(read_array_pkl)"
      ]
    },
    {
      "cell_type": "code",
      "execution_count": null,
      "metadata": {
        "id": "Qt5lfTvk1EXT"
      },
      "outputs": [],
      "source": [
        "# npz \n",
        "# npz file format is a zipped archive of files named after the variables they contain\n",
        "# In this case the variables are the two arrays we defined above\n",
        "np.savez('tmp.npz', tmp_array=tmp_array, tmp_array_pkl=tmp_array_pkl)\n",
        "# Again, set allow_pickle=True because one of them is pickled\n",
        "npz_data = np.load('tmp.npz', allow_pickle=True, encoding='bytes')\n",
        "# We access the specific variables using their names as keys\n",
        "read_array = npz_data['tmp_array']\n",
        "read_array_pkl = npz_data['tmp_array_pkl']\n",
        "\n",
        "print(read_array)\n",
        "print(read_array_pkl)"
      ]
    },
    {
      "cell_type": "markdown",
      "metadata": {
        "id": "IGmrly6N1JKP"
      },
      "source": [
        "# Reading and Saving (Pandas)\n",
        "\n",
        "Documentation: \n",
        "> [Save csv](https://pandas.pydata.org/docs/reference/api/pandas.DataFrame.to_csv.html)\n",
        "\n",
        "> [Read csv](https://pandas.pydata.org/docs/reference/api/pandas.read_csv.html)\n",
        "\n",
        "\n",
        "\n"
      ]
    },
    {
      "cell_type": "code",
      "execution_count": null,
      "metadata": {
        "id": "ekDuGiKA1G7w"
      },
      "outputs": [],
      "source": [
        "# csv\n",
        "# Useful in HW P2s, we'll be submitting csv files to kaggle\n",
        "import pandas as pd\n",
        "#Create a dataframe\n",
        "output = pd.DataFrame()\n",
        "# Set the column names as 'id' and 'label'\n",
        "output['id'] = np.array(range(10))\n",
        "output['label'] = np.array(range(10,20))\n",
        "print(output.head())"
      ]
    },
    {
      "cell_type": "code",
      "execution_count": null,
      "metadata": {
        "id": "N7jk0dcj126C"
      },
      "outputs": [],
      "source": [
        "#saving the dataframe as a csv\n",
        "output.to_csv(\"submission.csv\", index = False)\n",
        "\n",
        "output_read = pd.read_csv(\"submission.csv\")\n",
        "print(output_read.head())"
      ]
    },
    {
      "cell_type": "markdown",
      "source": [
        "# Datasets and Dataloaders (Tensorflow)\n",
        "\n",
        "Different datasets in Tensorflow - https://knowyourdata-tfds.withgoogle.com/"
      ],
      "metadata": {
        "id": "k4dTVriA2TR8"
      }
    },
    {
      "cell_type": "code",
      "source": [
        "import matplotlib.pyplot as plt\n",
        "from tensorflow.keras.datasets import mnist\n",
        "# from tensorflow.keras.datasets import cifar100\n",
        "\n",
        "(X_train, Y_train), (X_test, Y_test) = mnist.load_data()\n",
        "\n",
        "print('MNIST Dataset Shape:')\n",
        "print('X_train: ' + str(X_train.shape))\n",
        "print('Y_train: ' + str(Y_train.shape))\n",
        "print('X_test:  '  + str(X_test.shape))\n",
        "print('Y_test:  '  + str(Y_test.shape))"
      ],
      "metadata": {
        "id": "HXN8J58c24IQ"
      },
      "execution_count": null,
      "outputs": []
    },
    {
      "cell_type": "code",
      "source": [
        "num = 10\n",
        "images = X_train[:num]\n",
        "labels = Y_train[:num]\n",
        "\n",
        "num_row = 2\n",
        "num_col = 5# plot images\n",
        "fig, axes = plt.subplots(num_row, num_col, figsize=(1.5*num_col,2*num_row))\n",
        "for i in range(num):\n",
        "    ax = axes[i//num_col, i%num_col]\n",
        "    ax.imshow(images[i], cmap='gray')\n",
        "    ax.set_title('Label: {}'.format(labels[i]))\n",
        "plt.tight_layout()\n",
        "plt.show()"
      ],
      "metadata": {
        "id": "4tkF_WbU57mM"
      },
      "execution_count": null,
      "outputs": []
    }
  ],
  "metadata": {
    "kernelspec": {
      "display_name": "base-ml",
      "language": "python",
      "name": "python3"
    },
    "language_info": {
      "codemirror_mode": {
        "name": "ipython",
        "version": 3
      },
      "file_extension": ".py",
      "mimetype": "text/x-python",
      "name": "python",
      "nbconvert_exporter": "python",
      "pygments_lexer": "ipython3",
      "version": "3.10.6"
    },
    "orig_nbformat": 4,
    "vscode": {
      "interpreter": {
        "hash": "ad106cb88fa4918e65beeeb600eeb9a4517756af788de97d26b43a66f9075a64"
      }
    },
    "colab": {
      "provenance": []
    }
  },
  "nbformat": 4,
  "nbformat_minor": 0
}